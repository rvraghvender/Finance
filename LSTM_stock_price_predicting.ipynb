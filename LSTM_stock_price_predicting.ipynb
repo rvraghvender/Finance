{
  "nbformat": 4,
  "nbformat_minor": 0,
  "metadata": {
    "colab": {
      "name": "LSTM_stock_price_predicting.ipynb",
      "provenance": [],
      "authorship_tag": "ABX9TyNACDSMu69GpX+pqmZDCXgg",
      "include_colab_link": true
    },
    "kernelspec": {
      "name": "python3",
      "display_name": "Python 3"
    },
    "language_info": {
      "name": "python"
    }
  },
  "cells": [
    {
      "cell_type": "markdown",
      "metadata": {
        "id": "view-in-github",
        "colab_type": "text"
      },
      "source": [
        "<a href=\"https://colab.research.google.com/github/rvraghvender/Finance/blob/main/LSTM_stock_price_predicting.ipynb\" target=\"_parent\"><img src=\"https://colab.research.google.com/assets/colab-badge.svg\" alt=\"Open In Colab\"/></a>"
      ]
    },
    {
      "cell_type": "code",
      "execution_count": null,
      "metadata": {
        "id": "TquhFMI4fxIc"
      },
      "outputs": [],
      "source": [
        "# Description: This program uses an artifical recurrent neural network called Long Short Term Memory (LSTM)\n",
        "#              to predict the closing stock price of a corporation using the past 60 day stock price."
      ]
    },
    {
      "cell_type": "code",
      "source": [
        "# Import the libraries\n",
        "import math\n",
        "import pandas_datareader as web\n",
        "import numpy as np\n",
        "import pandas as pd\n",
        "from sklearn.preprocessing import MinMaxScaler\n",
        "from keras.models import Sequential\n",
        "from keras.layers import Dense, LSTM\n",
        "import matplotlib.pyplot as plt\n",
        "plt.style.use('fivethirtyeight')"
      ],
      "metadata": {
        "id": "dzcrWmXmgNst"
      },
      "execution_count": null,
      "outputs": []
    },
    {
      "cell_type": "code",
      "source": [
        "# Get the stock quote\n",
        "#!pip install --upgrade pandas\n",
        "#!pip install --upgrade pandas-datareader\n",
        "df = web.DataReader('BTC-USD', data_source='yahoo', start='2012-01-01', end='2021-01-05')\n",
        "\n",
        "# Show the data\n",
        "df"
      ],
      "metadata": {
        "colab": {
          "base_uri": "https://localhost:8080/",
          "height": 455
        },
        "id": "KCDMGbxZhNzM",
        "outputId": "f8aa6d63-cde4-4014-dd16-4c4bdbd9a3cd"
      },
      "execution_count": null,
      "outputs": [
        {
          "output_type": "execute_result",
          "data": {
            "text/html": [
              "\n",
              "  <div id=\"df-0babdae8-198d-46b2-9001-c0afb58360f7\">\n",
              "    <div class=\"colab-df-container\">\n",
              "      <div>\n",
              "<style scoped>\n",
              "    .dataframe tbody tr th:only-of-type {\n",
              "        vertical-align: middle;\n",
              "    }\n",
              "\n",
              "    .dataframe tbody tr th {\n",
              "        vertical-align: top;\n",
              "    }\n",
              "\n",
              "    .dataframe thead th {\n",
              "        text-align: right;\n",
              "    }\n",
              "</style>\n",
              "<table border=\"1\" class=\"dataframe\">\n",
              "  <thead>\n",
              "    <tr style=\"text-align: right;\">\n",
              "      <th></th>\n",
              "      <th>High</th>\n",
              "      <th>Low</th>\n",
              "      <th>Open</th>\n",
              "      <th>Close</th>\n",
              "      <th>Volume</th>\n",
              "      <th>Adj Close</th>\n",
              "    </tr>\n",
              "    <tr>\n",
              "      <th>Date</th>\n",
              "      <th></th>\n",
              "      <th></th>\n",
              "      <th></th>\n",
              "      <th></th>\n",
              "      <th></th>\n",
              "      <th></th>\n",
              "    </tr>\n",
              "  </thead>\n",
              "  <tbody>\n",
              "    <tr>\n",
              "      <th>2014-09-17</th>\n",
              "      <td>468.174011</td>\n",
              "      <td>452.421997</td>\n",
              "      <td>465.864014</td>\n",
              "      <td>457.334015</td>\n",
              "      <td>21056800</td>\n",
              "      <td>457.334015</td>\n",
              "    </tr>\n",
              "    <tr>\n",
              "      <th>2014-09-18</th>\n",
              "      <td>456.859985</td>\n",
              "      <td>413.104004</td>\n",
              "      <td>456.859985</td>\n",
              "      <td>424.440002</td>\n",
              "      <td>34483200</td>\n",
              "      <td>424.440002</td>\n",
              "    </tr>\n",
              "    <tr>\n",
              "      <th>2014-09-19</th>\n",
              "      <td>427.834991</td>\n",
              "      <td>384.532013</td>\n",
              "      <td>424.102997</td>\n",
              "      <td>394.795990</td>\n",
              "      <td>37919700</td>\n",
              "      <td>394.795990</td>\n",
              "    </tr>\n",
              "    <tr>\n",
              "      <th>2014-09-20</th>\n",
              "      <td>423.295990</td>\n",
              "      <td>389.882996</td>\n",
              "      <td>394.673004</td>\n",
              "      <td>408.903992</td>\n",
              "      <td>36863600</td>\n",
              "      <td>408.903992</td>\n",
              "    </tr>\n",
              "    <tr>\n",
              "      <th>2014-09-21</th>\n",
              "      <td>412.425995</td>\n",
              "      <td>393.181000</td>\n",
              "      <td>408.084991</td>\n",
              "      <td>398.821014</td>\n",
              "      <td>26580100</td>\n",
              "      <td>398.821014</td>\n",
              "    </tr>\n",
              "    <tr>\n",
              "      <th>...</th>\n",
              "      <td>...</td>\n",
              "      <td>...</td>\n",
              "      <td>...</td>\n",
              "      <td>...</td>\n",
              "      <td>...</td>\n",
              "      <td>...</td>\n",
              "    </tr>\n",
              "    <tr>\n",
              "      <th>2021-01-02</th>\n",
              "      <td>33155.117188</td>\n",
              "      <td>29091.181641</td>\n",
              "      <td>29376.455078</td>\n",
              "      <td>32127.267578</td>\n",
              "      <td>67865420765</td>\n",
              "      <td>32127.267578</td>\n",
              "    </tr>\n",
              "    <tr>\n",
              "      <th>2021-01-03</th>\n",
              "      <td>34608.558594</td>\n",
              "      <td>32052.316406</td>\n",
              "      <td>32129.408203</td>\n",
              "      <td>32782.023438</td>\n",
              "      <td>78665235202</td>\n",
              "      <td>32782.023438</td>\n",
              "    </tr>\n",
              "    <tr>\n",
              "      <th>2021-01-04</th>\n",
              "      <td>33440.218750</td>\n",
              "      <td>28722.755859</td>\n",
              "      <td>32810.949219</td>\n",
              "      <td>31971.914062</td>\n",
              "      <td>81163475344</td>\n",
              "      <td>31971.914062</td>\n",
              "    </tr>\n",
              "    <tr>\n",
              "      <th>2021-01-05</th>\n",
              "      <td>34437.589844</td>\n",
              "      <td>30221.187500</td>\n",
              "      <td>31977.041016</td>\n",
              "      <td>33992.429688</td>\n",
              "      <td>67547324782</td>\n",
              "      <td>33992.429688</td>\n",
              "    </tr>\n",
              "    <tr>\n",
              "      <th>2021-01-06</th>\n",
              "      <td>36879.699219</td>\n",
              "      <td>33514.035156</td>\n",
              "      <td>34013.613281</td>\n",
              "      <td>36824.363281</td>\n",
              "      <td>75289433811</td>\n",
              "      <td>36824.363281</td>\n",
              "    </tr>\n",
              "  </tbody>\n",
              "</table>\n",
              "<p>2304 rows × 6 columns</p>\n",
              "</div>\n",
              "      <button class=\"colab-df-convert\" onclick=\"convertToInteractive('df-0babdae8-198d-46b2-9001-c0afb58360f7')\"\n",
              "              title=\"Convert this dataframe to an interactive table.\"\n",
              "              style=\"display:none;\">\n",
              "        \n",
              "  <svg xmlns=\"http://www.w3.org/2000/svg\" height=\"24px\"viewBox=\"0 0 24 24\"\n",
              "       width=\"24px\">\n",
              "    <path d=\"M0 0h24v24H0V0z\" fill=\"none\"/>\n",
              "    <path d=\"M18.56 5.44l.94 2.06.94-2.06 2.06-.94-2.06-.94-.94-2.06-.94 2.06-2.06.94zm-11 1L8.5 8.5l.94-2.06 2.06-.94-2.06-.94L8.5 2.5l-.94 2.06-2.06.94zm10 10l.94 2.06.94-2.06 2.06-.94-2.06-.94-.94-2.06-.94 2.06-2.06.94z\"/><path d=\"M17.41 7.96l-1.37-1.37c-.4-.4-.92-.59-1.43-.59-.52 0-1.04.2-1.43.59L10.3 9.45l-7.72 7.72c-.78.78-.78 2.05 0 2.83L4 21.41c.39.39.9.59 1.41.59.51 0 1.02-.2 1.41-.59l7.78-7.78 2.81-2.81c.8-.78.8-2.07 0-2.86zM5.41 20L4 18.59l7.72-7.72 1.47 1.35L5.41 20z\"/>\n",
              "  </svg>\n",
              "      </button>\n",
              "      \n",
              "  <style>\n",
              "    .colab-df-container {\n",
              "      display:flex;\n",
              "      flex-wrap:wrap;\n",
              "      gap: 12px;\n",
              "    }\n",
              "\n",
              "    .colab-df-convert {\n",
              "      background-color: #E8F0FE;\n",
              "      border: none;\n",
              "      border-radius: 50%;\n",
              "      cursor: pointer;\n",
              "      display: none;\n",
              "      fill: #1967D2;\n",
              "      height: 32px;\n",
              "      padding: 0 0 0 0;\n",
              "      width: 32px;\n",
              "    }\n",
              "\n",
              "    .colab-df-convert:hover {\n",
              "      background-color: #E2EBFA;\n",
              "      box-shadow: 0px 1px 2px rgba(60, 64, 67, 0.3), 0px 1px 3px 1px rgba(60, 64, 67, 0.15);\n",
              "      fill: #174EA6;\n",
              "    }\n",
              "\n",
              "    [theme=dark] .colab-df-convert {\n",
              "      background-color: #3B4455;\n",
              "      fill: #D2E3FC;\n",
              "    }\n",
              "\n",
              "    [theme=dark] .colab-df-convert:hover {\n",
              "      background-color: #434B5C;\n",
              "      box-shadow: 0px 1px 3px 1px rgba(0, 0, 0, 0.15);\n",
              "      filter: drop-shadow(0px 1px 2px rgba(0, 0, 0, 0.3));\n",
              "      fill: #FFFFFF;\n",
              "    }\n",
              "  </style>\n",
              "\n",
              "      <script>\n",
              "        const buttonEl =\n",
              "          document.querySelector('#df-0babdae8-198d-46b2-9001-c0afb58360f7 button.colab-df-convert');\n",
              "        buttonEl.style.display =\n",
              "          google.colab.kernel.accessAllowed ? 'block' : 'none';\n",
              "\n",
              "        async function convertToInteractive(key) {\n",
              "          const element = document.querySelector('#df-0babdae8-198d-46b2-9001-c0afb58360f7');\n",
              "          const dataTable =\n",
              "            await google.colab.kernel.invokeFunction('convertToInteractive',\n",
              "                                                     [key], {});\n",
              "          if (!dataTable) return;\n",
              "\n",
              "          const docLinkHtml = 'Like what you see? Visit the ' +\n",
              "            '<a target=\"_blank\" href=https://colab.research.google.com/notebooks/data_table.ipynb>data table notebook</a>'\n",
              "            + ' to learn more about interactive tables.';\n",
              "          element.innerHTML = '';\n",
              "          dataTable['output_type'] = 'display_data';\n",
              "          await google.colab.output.renderOutput(dataTable, element);\n",
              "          const docLink = document.createElement('div');\n",
              "          docLink.innerHTML = docLinkHtml;\n",
              "          element.appendChild(docLink);\n",
              "        }\n",
              "      </script>\n",
              "    </div>\n",
              "  </div>\n",
              "  "
            ],
            "text/plain": [
              "                    High           Low  ...       Volume     Adj Close\n",
              "Date                                    ...                           \n",
              "2014-09-17    468.174011    452.421997  ...     21056800    457.334015\n",
              "2014-09-18    456.859985    413.104004  ...     34483200    424.440002\n",
              "2014-09-19    427.834991    384.532013  ...     37919700    394.795990\n",
              "2014-09-20    423.295990    389.882996  ...     36863600    408.903992\n",
              "2014-09-21    412.425995    393.181000  ...     26580100    398.821014\n",
              "...                  ...           ...  ...          ...           ...\n",
              "2021-01-02  33155.117188  29091.181641  ...  67865420765  32127.267578\n",
              "2021-01-03  34608.558594  32052.316406  ...  78665235202  32782.023438\n",
              "2021-01-04  33440.218750  28722.755859  ...  81163475344  31971.914062\n",
              "2021-01-05  34437.589844  30221.187500  ...  67547324782  33992.429688\n",
              "2021-01-06  36879.699219  33514.035156  ...  75289433811  36824.363281\n",
              "\n",
              "[2304 rows x 6 columns]"
            ]
          },
          "metadata": {},
          "execution_count": 51
        }
      ]
    },
    {
      "cell_type": "code",
      "source": [
        "# Get the number of rows and columns in the data set\n",
        "df.shape"
      ],
      "metadata": {
        "colab": {
          "base_uri": "https://localhost:8080/"
        },
        "id": "hz7-rP42hinz",
        "outputId": "b0559789-7b0b-4865-c231-40f66ad28460"
      },
      "execution_count": null,
      "outputs": [
        {
          "output_type": "execute_result",
          "data": {
            "text/plain": [
              "(2304, 6)"
            ]
          },
          "metadata": {},
          "execution_count": 52
        }
      ]
    },
    {
      "cell_type": "code",
      "source": [
        "# Visualise the closing price history\n",
        "plt.figure(figsize=(16,8))\n",
        "plt.title('Close Price History')\n",
        "plt.plot(df['Close'])\n",
        "plt.xlabel('Date', fontsize=18)\n",
        "plt.ylabel('Close Price USD ($)', fontsize=18)\n",
        "plt.show()"
      ],
      "metadata": {
        "colab": {
          "base_uri": "https://localhost:8080/",
          "height": 558
        },
        "id": "3ruo_7EPi35B",
        "outputId": "05470e6b-a1e3-41c5-bc96-8bf92698bc0f"
      },
      "execution_count": null,
      "outputs": [
        {
          "output_type": "display_data",
          "data": {
            "image/png": "[encoded data removed]",
            "text/plain": [
              "<Figure size 1152x576 with 1 Axes>"
            ]
          },
          "metadata": {}
        }
      ]
    },
    {
      "cell_type": "code",
      "source": [
        "# Create a new dataframe with only the 'Close' column\n",
        "data = df.filter(['Close'])\n",
        "\n",
        "# Convert the dataframe to the numpy array\n",
        "dataset = data.values\n",
        "\n",
        "# Get the number of rows to train the model on\n",
        "training_data_len = math.ceil(len(dataset) * 0.8)\n",
        "\n",
        "training_data_len "
      ],
      "metadata": {
        "colab": {
          "base_uri": "https://localhost:8080/"
        },
        "id": "-tFnxYakjRbC",
        "outputId": "1ee56231-5737-4173-e9c8-8ab7b9fb6819"
      },
      "execution_count": null,
      "outputs": [
        {
          "output_type": "execute_result",
          "data": {
            "text/plain": [
              "1844"
            ]
          },
          "metadata": {},
          "execution_count": 54
        }
      ]
    },
    {
      "cell_type": "code",
      "source": [
        "# Scale the data (Preprocessing transformation)\n",
        "scaler = MinMaxScaler(feature_range=(0,1))  # Scale the data between 0 and 1\n",
        "scaled_data = scaler.fit_transform(dataset)\n",
        "\n",
        "scaled_data"
      ],
      "metadata": {
        "colab": {
          "base_uri": "https://localhost:8080/"
        },
        "id": "1Jw-Y9lEkTdW",
        "outputId": "fa3fce99-24b0-42c1-c0f1-629c72fef9ff"
      },
      "execution_count": null,
      "outputs": [
        {
          "output_type": "execute_result",
          "data": {
            "text/plain": [
              "array([[0.00761963],\n",
              "       [0.00672202],\n",
              "       [0.0059131 ],\n",
              "       ...,\n",
              "       [0.86758678],\n",
              "       [0.92272244],\n",
              "       [1.        ]])"
            ]
          },
          "metadata": {},
          "execution_count": 55
        }
      ]
    },
    {
      "cell_type": "code",
      "source": [
        "# Create the training data set\n",
        "\n",
        "# Create the scaled training data set\n",
        "train_data = scaled_data[0:training_data_len, :]\n",
        "\n",
        "# Split the data into x_train and y_train data sets\n",
        "x_train = []\n",
        "y_train = []\n",
        "\n",
        "for i in range(60, len(train_data)):\n",
        "  x_train.append(train_data[i-60:i, 0])\n",
        "  y_train.append(train_data[i, 0])\n",
        "\n",
        "  if i <= 61:\n",
        "    print(x_train)\n",
        "    print(y_train)\n",
        "  "
      ],
      "metadata": {
        "colab": {
          "base_uri": "https://localhost:8080/"
        },
        "id": "sqXWKZXYlA9C",
        "outputId": "462def34-fed6-429c-dffa-6efbe2546eea"
      },
      "execution_count": null,
      "outputs": [
        {
          "output_type": "stream",
          "name": "stdout",
          "text": [
            "[array([0.00761963, 0.00672202, 0.0059131 , 0.00629808, 0.00602293,\n",
            "       0.00611383, 0.00703177, 0.00668832, 0.00637094, 0.00617586,\n",
            "       0.00604201, 0.00543242, 0.00538565, 0.00569884, 0.00560799,\n",
            "       0.00537487, 0.00495027, 0.00411401, 0.00388599, 0.00414711,\n",
            "       0.00431378, 0.00477094, 0.00510074, 0.00500621, 0.00502633,\n",
            "       0.00546975, 0.00579352, 0.00607885, 0.00591247, 0.0055791 ,\n",
            "       0.0056119 , 0.00582158, 0.00576984, 0.00558698, 0.00568604,\n",
            "       0.00559552, 0.00492039, 0.00491843, 0.00461624, 0.00481907,\n",
            "       0.00477227, 0.00489859, 0.00429752, 0.00456259, 0.00437202,\n",
            "       0.00402895, 0.00403285, 0.00407821, 0.00415838, 0.00440381,\n",
            "       0.00467134, 0.00448373, 0.00456759, 0.00505266, 0.00515253,\n",
            "       0.00517357, 0.00669804, 0.00662092, 0.00599556, 0.00540383])]\n",
            "[0.005724431089858943]\n",
            "[array([0.00761963, 0.00672202, 0.0059131 , 0.00629808, 0.00602293,\n",
            "       0.00611383, 0.00703177, 0.00668832, 0.00637094, 0.00617586,\n",
            "       0.00604201, 0.00543242, 0.00538565, 0.00569884, 0.00560799,\n",
            "       0.00537487, 0.00495027, 0.00411401, 0.00388599, 0.00414711,\n",
            "       0.00431378, 0.00477094, 0.00510074, 0.00500621, 0.00502633,\n",
            "       0.00546975, 0.00579352, 0.00607885, 0.00591247, 0.0055791 ,\n",
            "       0.0056119 , 0.00582158, 0.00576984, 0.00558698, 0.00568604,\n",
            "       0.00559552, 0.00492039, 0.00491843, 0.00461624, 0.00481907,\n",
            "       0.00477227, 0.00489859, 0.00429752, 0.00456259, 0.00437202,\n",
            "       0.00402895, 0.00403285, 0.00407821, 0.00415838, 0.00440381,\n",
            "       0.00467134, 0.00448373, 0.00456759, 0.00505266, 0.00515253,\n",
            "       0.00517357, 0.00669804, 0.00662092, 0.00599556, 0.00540383]), array([0.00672202, 0.0059131 , 0.00629808, 0.00602293, 0.00611383,\n",
            "       0.00703177, 0.00668832, 0.00637094, 0.00617586, 0.00604201,\n",
            "       0.00543242, 0.00538565, 0.00569884, 0.00560799, 0.00537487,\n",
            "       0.00495027, 0.00411401, 0.00388599, 0.00414711, 0.00431378,\n",
            "       0.00477094, 0.00510074, 0.00500621, 0.00502633, 0.00546975,\n",
            "       0.00579352, 0.00607885, 0.00591247, 0.0055791 , 0.0056119 ,\n",
            "       0.00582158, 0.00576984, 0.00558698, 0.00568604, 0.00559552,\n",
            "       0.00492039, 0.00491843, 0.00461624, 0.00481907, 0.00477227,\n",
            "       0.00489859, 0.00429752, 0.00456259, 0.00437202, 0.00402895,\n",
            "       0.00403285, 0.00407821, 0.00415838, 0.00440381, 0.00467134,\n",
            "       0.00448373, 0.00456759, 0.00505266, 0.00515253, 0.00517357,\n",
            "       0.00669804, 0.00662092, 0.00599556, 0.00540383, 0.00572443])]\n",
            "[0.005724431089858943, 0.005711496645259175]\n"
          ]
        }
      ]
    },
    {
      "cell_type": "code",
      "source": [
        "\n",
        "# Convert the x_train and y_train to numpy arrays\n",
        "x_train, y_train = np.array(x_train), np.array(y_train)"
      ],
      "metadata": {
        "id": "yrNfUtvBq_Mt"
      },
      "execution_count": null,
      "outputs": []
    },
    {
      "cell_type": "code",
      "source": [
        "#  Reshape the data as our LSTM model requires 3-D data\n",
        "x_train = np.reshape(x_train, (x_train.shape[0], x_train.shape[1], 1))\n",
        "x_train.shape"
      ],
      "metadata": {
        "colab": {
          "base_uri": "https://localhost:8080/"
        },
        "id": "vpuEb2bT01Fk",
        "outputId": "3ccb0cc9-def4-40a5-cb7b-d47cdeda2538"
      },
      "execution_count": null,
      "outputs": [
        {
          "output_type": "execute_result",
          "data": {
            "text/plain": [
              "(1784, 60, 1)"
            ]
          },
          "metadata": {},
          "execution_count": 58
        }
      ]
    },
    {
      "cell_type": "code",
      "source": [
        "# Build the LSTM model\n",
        "model = Sequential()\n",
        "model.add(LSTM(50, return_sequences=True, input_shape=(x_train.shape[1],1) ))   # 50 being the number of neurons\n",
        "model.add(LSTM(50, return_sequences=False))   # since we have already created the LSTM model\n",
        "model.add(Dense(25)) # Here the numnber of neurons are 25\n",
        "model.add(Dense(1))"
      ],
      "metadata": {
        "id": "x2OylNTu1JoT"
      },
      "execution_count": null,
      "outputs": []
    },
    {
      "cell_type": "code",
      "source": [
        "# Compile the model\n",
        "model.compile(optimizer='adam', loss='mean_squared_error')"
      ],
      "metadata": {
        "id": "m55rVE0w2Ra8"
      },
      "execution_count": null,
      "outputs": []
    },
    {
      "cell_type": "code",
      "source": [
        "model.fit(x_train, y_train, batch_size=1, epochs=1)"
      ],
      "metadata": {
        "colab": {
          "base_uri": "https://localhost:8080/"
        },
        "id": "xwr-CCKT2wuB",
        "outputId": "a0785cb6-32bb-492d-e856-77caa00c1083"
      },
      "execution_count": null,
      "outputs": [
        {
          "output_type": "stream",
          "name": "stdout",
          "text": [
            "1784/1784 [==============================] - 49s 26ms/step - loss: 6.6811e-04\n"
          ]
        },
        {
          "output_type": "execute_result",
          "data": {
            "text/plain": [
              "<keras.callbacks.History at 0x7f259fdbac10>"
            ]
          },
          "metadata": {},
          "execution_count": 61
        }
      ]
    },
    {
      "cell_type": "code",
      "source": [
        "# Create the testing dataset\n",
        "\n",
        "# Create a new array scaled values from index 1543 to 2003\n",
        "test_data = scaled_data[training_data_len-60: , :]\n",
        "\n",
        "# Create the data set x_test and y_test\n",
        "x_test = []\n",
        "y_test = dataset[training_data_len:, :]\n",
        "\n",
        "for i in range(60, len(test_data)):\n",
        "  x_test.append(test_data[i-60:i,0])"
      ],
      "metadata": {
        "id": "IEqvJ6Mm28pQ"
      },
      "execution_count": null,
      "outputs": []
    },
    {
      "cell_type": "code",
      "source": [
        "# Convert the data to numpy array (to use it in LSTM model)\n",
        "x_test = np.array(x_test)\n",
        "x_test = np.reshape(x_test, (x_test.shape[0], x_test.shape[1], 1))"
      ],
      "metadata": {
        "id": "SGCI3sCx4i3b"
      },
      "execution_count": null,
      "outputs": []
    },
    {
      "cell_type": "code",
      "source": [
        "# Get the models predcited price values\n",
        "prediction = model.predict(x_test)\n",
        "prediction = scaler.inverse_transform(prediction) # Unscalling the values"
      ],
      "metadata": {
        "id": "OFbHActV5B3g"
      },
      "execution_count": null,
      "outputs": []
    },
    {
      "cell_type": "code",
      "source": [
        "# Get the root mean squared error (RMSE)\n",
        "rmse = np.sqrt(np.mean(prediction - y_test)**2)\n",
        "rmse"
      ],
      "metadata": {
        "colab": {
          "base_uri": "https://localhost:8080/"
        },
        "id": "-N-uPw1M5duO",
        "outputId": "79b4e865-667f-43fd-ca37-48e22a09ea7d"
      },
      "execution_count": null,
      "outputs": [
        {
          "output_type": "execute_result",
          "data": {
            "text/plain": [
              "378.46373768682065"
            ]
          },
          "metadata": {},
          "execution_count": 65
        }
      ]
    },
    {
      "cell_type": "code",
      "source": [
        "# Plot the data\n",
        "train = data[:training_data_len]\n",
        "valid = data[training_data_len:]\n",
        "valid['Predictions'] = prediction\n",
        "\n",
        "# Visualise the data\n",
        "plt.figure(figsize=(16,8))\n",
        "plt.title('Model')\n",
        "plt.xlabel('Date', fontsize=18)\n",
        "plt.ylabel('Close Price USD ($)', fontsize=18)\n",
        "plt.plot(train['Close'])\n",
        "plt.plot(valid[['Close', 'Predictions']])\n",
        "plt.legend(['Train', 'Valid', 'Predictions'], loc='lower right')\n",
        "plt.show()"
      ],
      "metadata": {
        "colab": {
          "base_uri": "https://localhost:8080/",
          "height": 662
        },
        "id": "BRBvQIV75zwP",
        "outputId": "f56c55e7-e826-4e94-868c-b8a3e2a66ab6"
      },
      "execution_count": null,
      "outputs": [
        {
          "output_type": "stream",
          "name": "stderr",
          "text": [
            "/usr/local/lib/python3.7/dist-packages/ipykernel_launcher.py:4: SettingWithCopyWarning: \n",
            "A value is trying to be set on a copy of a slice from a DataFrame.\n",
            "Try using .loc[row_indexer,col_indexer] = value instead\n",
            "\n",
            "See the caveats in the documentation: https://pandas.pydata.org/pandas-docs/stable/user_guide/indexing.html#returning-a-view-versus-a-copy\n",
            "  after removing the cwd from sys.path.\n"
          ]
        },
        {
          "output_type": "display_data",
          "data": {
            "image/png": "[encoded data removed]",
            "text/plain": [
              "<Figure size 1152x576 with 1 Axes>"
            ]
          },
          "metadata": {}
        }
      ]
    },
    {
      "cell_type": "code",
      "source": [
        "# Show the valid and predicted prices\n",
        "valid"
      ],
      "metadata": {
        "colab": {
          "base_uri": "https://localhost:8080/",
          "height": 455
        },
        "id": "2J2mQfqK66W_",
        "outputId": "ed2e77b6-0208-45f7-c18b-c3134d84a80e"
      },
      "execution_count": null,
      "outputs": [
        {
          "output_type": "execute_result",
          "data": {
            "text/html": [
              "\n",
              "  <div id=\"df-901804c2-ca02-4a38-943f-71c60bcd32c9\">\n",
              "    <div class=\"colab-df-container\">\n",
              "      <div>\n",
              "<style scoped>\n",
              "    .dataframe tbody tr th:only-of-type {\n",
              "        vertical-align: middle;\n",
              "    }\n",
              "\n",
              "    .dataframe tbody tr th {\n",
              "        vertical-align: top;\n",
              "    }\n",
              "\n",
              "    .dataframe thead th {\n",
              "        text-align: right;\n",
              "    }\n",
              "</style>\n",
              "<table border=\"1\" class=\"dataframe\">\n",
              "  <thead>\n",
              "    <tr style=\"text-align: right;\">\n",
              "      <th></th>\n",
              "      <th>Close</th>\n",
              "      <th>Predictions</th>\n",
              "    </tr>\n",
              "    <tr>\n",
              "      <th>Date</th>\n",
              "      <th></th>\n",
              "      <th></th>\n",
              "    </tr>\n",
              "  </thead>\n",
              "  <tbody>\n",
              "    <tr>\n",
              "      <th>2019-10-05</th>\n",
              "      <td>8151.500488</td>\n",
              "      <td>8111.516113</td>\n",
              "    </tr>\n",
              "    <tr>\n",
              "      <th>2019-10-06</th>\n",
              "      <td>7988.155762</td>\n",
              "      <td>8095.466797</td>\n",
              "    </tr>\n",
              "    <tr>\n",
              "      <th>2019-10-07</th>\n",
              "      <td>8245.623047</td>\n",
              "      <td>8047.380859</td>\n",
              "    </tr>\n",
              "    <tr>\n",
              "      <th>2019-10-08</th>\n",
              "      <td>8228.783203</td>\n",
              "      <td>8029.852051</td>\n",
              "    </tr>\n",
              "    <tr>\n",
              "      <th>2019-10-09</th>\n",
              "      <td>8595.740234</td>\n",
              "      <td>8026.725098</td>\n",
              "    </tr>\n",
              "    <tr>\n",
              "      <th>...</th>\n",
              "      <td>...</td>\n",
              "      <td>...</td>\n",
              "    </tr>\n",
              "    <tr>\n",
              "      <th>2021-01-02</th>\n",
              "      <td>32127.267578</td>\n",
              "      <td>27445.185547</td>\n",
              "    </tr>\n",
              "    <tr>\n",
              "      <th>2021-01-03</th>\n",
              "      <td>32782.023438</td>\n",
              "      <td>28366.849609</td>\n",
              "    </tr>\n",
              "    <tr>\n",
              "      <th>2021-01-04</th>\n",
              "      <td>31971.914062</td>\n",
              "      <td>29368.947266</td>\n",
              "    </tr>\n",
              "    <tr>\n",
              "      <th>2021-01-05</th>\n",
              "      <td>33992.429688</td>\n",
              "      <td>30043.466797</td>\n",
              "    </tr>\n",
              "    <tr>\n",
              "      <th>2021-01-06</th>\n",
              "      <td>36824.363281</td>\n",
              "      <td>30814.820312</td>\n",
              "    </tr>\n",
              "  </tbody>\n",
              "</table>\n",
              "<p>460 rows × 2 columns</p>\n",
              "</div>\n",
              "      <button class=\"colab-df-convert\" onclick=\"convertToInteractive('df-901804c2-ca02-4a38-943f-71c60bcd32c9')\"\n",
              "              title=\"Convert this dataframe to an interactive table.\"\n",
              "              style=\"display:none;\">\n",
              "        \n",
              "  <svg xmlns=\"http://www.w3.org/2000/svg\" height=\"24px\"viewBox=\"0 0 24 24\"\n",
              "       width=\"24px\">\n",
              "    <path d=\"M0 0h24v24H0V0z\" fill=\"none\"/>\n",
              "    <path d=\"M18.56 5.44l.94 2.06.94-2.06 2.06-.94-2.06-.94-.94-2.06-.94 2.06-2.06.94zm-11 1L8.5 8.5l.94-2.06 2.06-.94-2.06-.94L8.5 2.5l-.94 2.06-2.06.94zm10 10l.94 2.06.94-2.06 2.06-.94-2.06-.94-.94-2.06-.94 2.06-2.06.94z\"/><path d=\"M17.41 7.96l-1.37-1.37c-.4-.4-.92-.59-1.43-.59-.52 0-1.04.2-1.43.59L10.3 9.45l-7.72 7.72c-.78.78-.78 2.05 0 2.83L4 21.41c.39.39.9.59 1.41.59.51 0 1.02-.2 1.41-.59l7.78-7.78 2.81-2.81c.8-.78.8-2.07 0-2.86zM5.41 20L4 18.59l7.72-7.72 1.47 1.35L5.41 20z\"/>\n",
              "  </svg>\n",
              "      </button>\n",
              "      \n",
              "  <style>\n",
              "    .colab-df-container {\n",
              "      display:flex;\n",
              "      flex-wrap:wrap;\n",
              "      gap: 12px;\n",
              "    }\n",
              "\n",
              "    .colab-df-convert {\n",
              "      background-color: #E8F0FE;\n",
              "      border: none;\n",
              "      border-radius: 50%;\n",
              "      cursor: pointer;\n",
              "      display: none;\n",
              "      fill: #1967D2;\n",
              "      height: 32px;\n",
              "      padding: 0 0 0 0;\n",
              "      width: 32px;\n",
              "    }\n",
              "\n",
              "    .colab-df-convert:hover {\n",
              "      background-color: #E2EBFA;\n",
              "      box-shadow: 0px 1px 2px rgba(60, 64, 67, 0.3), 0px 1px 3px 1px rgba(60, 64, 67, 0.15);\n",
              "      fill: #174EA6;\n",
              "    }\n",
              "\n",
              "    [theme=dark] .colab-df-convert {\n",
              "      background-color: #3B4455;\n",
              "      fill: #D2E3FC;\n",
              "    }\n",
              "\n",
              "    [theme=dark] .colab-df-convert:hover {\n",
              "      background-color: #434B5C;\n",
              "      box-shadow: 0px 1px 3px 1px rgba(0, 0, 0, 0.15);\n",
              "      filter: drop-shadow(0px 1px 2px rgba(0, 0, 0, 0.3));\n",
              "      fill: #FFFFFF;\n",
              "    }\n",
              "  </style>\n",
              "\n",
              "      <script>\n",
              "        const buttonEl =\n",
              "          document.querySelector('#df-901804c2-ca02-4a38-943f-71c60bcd32c9 button.colab-df-convert');\n",
              "        buttonEl.style.display =\n",
              "          google.colab.kernel.accessAllowed ? 'block' : 'none';\n",
              "\n",
              "        async function convertToInteractive(key) {\n",
              "          const element = document.querySelector('#df-901804c2-ca02-4a38-943f-71c60bcd32c9');\n",
              "          const dataTable =\n",
              "            await google.colab.kernel.invokeFunction('convertToInteractive',\n",
              "                                                     [key], {});\n",
              "          if (!dataTable) return;\n",
              "\n",
              "          const docLinkHtml = 'Like what you see? Visit the ' +\n",
              "            '<a target=\"_blank\" href=https://colab.research.google.com/notebooks/data_table.ipynb>data table notebook</a>'\n",
              "            + ' to learn more about interactive tables.';\n",
              "          element.innerHTML = '';\n",
              "          dataTable['output_type'] = 'display_data';\n",
              "          await google.colab.output.renderOutput(dataTable, element);\n",
              "          const docLink = document.createElement('div');\n",
              "          docLink.innerHTML = docLinkHtml;\n",
              "          element.appendChild(docLink);\n",
              "        }\n",
              "      </script>\n",
              "    </div>\n",
              "  </div>\n",
              "  "
            ],
            "text/plain": [
              "                   Close   Predictions\n",
              "Date                                  \n",
              "2019-10-05   8151.500488   8111.516113\n",
              "2019-10-06   7988.155762   8095.466797\n",
              "2019-10-07   8245.623047   8047.380859\n",
              "2019-10-08   8228.783203   8029.852051\n",
              "2019-10-09   8595.740234   8026.725098\n",
              "...                  ...           ...\n",
              "2021-01-02  32127.267578  27445.185547\n",
              "2021-01-03  32782.023438  28366.849609\n",
              "2021-01-04  31971.914062  29368.947266\n",
              "2021-01-05  33992.429688  30043.466797\n",
              "2021-01-06  36824.363281  30814.820312\n",
              "\n",
              "[460 rows x 2 columns]"
            ]
          },
          "metadata": {},
          "execution_count": 67
        }
      ]
    },
    {
      "cell_type": "code",
      "source": [
        "# Get the quote\n",
        "share_quote = web.DataReader('BTC-USD', data_source='yahoo', start='2012-01-01', end='2021-01-05')\n",
        "\n",
        "# Create the new dataframe\n",
        "new_df = share_quote.filter(['Close'])\n",
        "\n",
        "# Get the last 60 day closing price values and convert the dataframe to an array\n",
        "last_60_days = new_df[-60:].values\n",
        "\n",
        "# Scale the data to be values between 0 and 1\n",
        "last_60_days_scaled = scaler.transform(last_60_days)\n",
        "\n",
        "# Creat the empty list\n",
        "X_test = []\n",
        "\n",
        "# Append the past 60 days \n",
        "X_test.append(last_60_days_scaled)\n",
        "\n",
        "# Convert the X_test to a numpy array\n",
        "X_test = np.array(X_test)\n",
        "\n",
        "# Reshape the data to use in LSTM model\n",
        "X_test = np.reshape(X_test, (X_test.shape[0], X_test.shape[1], 1))\n",
        "\n",
        "# Get the predicted scale price\n",
        "pred_price = model.predict(X_test)\n",
        "\n",
        "# Undo the scaling\n",
        "pred_price = scaler.inverse_transform(pred_price)\n",
        "print(pred_price)"
      ],
      "metadata": {
        "colab": {
          "base_uri": "https://localhost:8080/"
        },
        "id": "0GSBQiao7KEu",
        "outputId": "46d7c84c-1099-4794-a824-857ace239041"
      },
      "execution_count": null,
      "outputs": [
        {
          "output_type": "stream",
          "name": "stdout",
          "text": [
            "[[31989.816]]\n"
          ]
        }
      ]
    },
    {
      "cell_type": "code",
      "source": [
        "# Get the quote\n",
        "share_quote2 = web.DataReader('BTC-USD', data_source='yahoo', start='2021-01-05', end='2021-01-05')\n",
        "print(share_quote2['Close'])"
      ],
      "metadata": {
        "colab": {
          "base_uri": "https://localhost:8080/"
        },
        "id": "GKJkpyW28xv9",
        "outputId": "0c64c3d3-de73-4b7a-8860-d4fa7b41e0ea"
      },
      "execution_count": null,
      "outputs": [
        {
          "output_type": "stream",
          "name": "stdout",
          "text": [
            "Date\n",
            "2021-01-05    33992.429688\n",
            "2021-01-06    36824.363281\n",
            "Name: Close, dtype: float64\n"
          ]
        }
      ]
    },
    {
      "cell_type": "code",
      "source": [
        ""
      ],
      "metadata": {
        "id": "Y_fW7lz79tbq"
      },
      "execution_count": null,
      "outputs": []
    }
  ]
}